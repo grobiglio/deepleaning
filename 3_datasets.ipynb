{
 "cells": [
  {
   "cell_type": "markdown",
   "metadata": {
    "slideshow": {
     "slide_type": "slide"
    }
   },
   "source": [
    "# Manejo de Datos en PyTorch"
   ]
  },
  {
   "cell_type": "markdown",
   "metadata": {
    "slideshow": {
     "slide_type": "slide"
    }
   },
   "source": [
    "## Librerías"
   ]
  },
  {
   "cell_type": "code",
   "execution_count": 1,
   "metadata": {
    "slideshow": {
     "slide_type": "-"
    }
   },
   "outputs": [],
   "source": [
    "import json\n",
    "import csv\n",
    "import functools\n",
    "import gzip\n",
    "import numpy as np\n",
    "import pandas as pd\n",
    "import torch\n",
    "import tempfile\n",
    "\n",
    "from gensim.models import KeyedVectors\n",
    "from gensim.parsing import preprocessing\n",
    "from torch.utils.data import Dataset, DataLoader, IterableDataset"
   ]
  },
  {
   "cell_type": "markdown",
   "metadata": {
    "slideshow": {
     "slide_type": "slide"
    }
   },
   "source": [
    "## La clase Dataset\n",
    "\n",
    "La clase abstracta [`torch.utils.data.Dataset`](https://pytorch.org/docs/stable/data.html#torch.utils.data.Dataset) es la clase base para construir un dataset de PyTorch. Cualquier dataset personalizado debe heredar de dicha clase e implementar los siguientes métodos:\n",
    "\n",
    "- `__len__`: Para que `len(dataset)` devuelva el tamaño del conjunto de datos.\n",
    "- `__getitem__`: Para soportar indexado de manera que `dataset[i]` devuelva el elemento `i`. Es común que en ciertos casos se utilice este método para levantar el dato real (e.g. una imagen) mientras que lo que se guarde en el dataset sea sólo una referencia a dicho dato (e.g. un path a la imagen). De esta manera se evita cargar muchas imágenes en memoria, haciendo que sea menos demandante a nivel RAM."
   ]
  },
  {
   "cell_type": "code",
   "execution_count": 2,
   "metadata": {
    "slideshow": {
     "slide_type": "subslide"
    }
   },
   "outputs": [
    {
     "name": "stdout",
     "output_type": "stream",
     "text": [
      "Dataset loaded with 50000 elements\n",
      "Sample element:\n",
      "{'data': \"One of the other reviewers has mentioned that after watching just 1 Oz episode you'll be hooked. They are right, as this is exactly what happened with me.<br /><br />The first thing that struck me about Oz was its brutality and unflinching scenes of violence, which set in right from the word GO. Trust me, this is not a show for the faint hearted or timid. This show pulls no punches with regards to drugs, sex or violence. Its is hardcore, in the classic use of the word.<br /><br />It is called OZ as that is the nickname given to the Oswald Maximum Security State Penitentary. It focuses mainly on Emerald City, an experimental section of the prison where all the cells have glass fronts and face inwards, so privacy is not high on the agenda. Em City is home to many..Aryans, Muslims, gangstas, Latinos, Christians, Italians, Irish and more....so scuffles, death stares, dodgy dealings and shady agreements are never far away.<br /><br />I would say the main appeal of the show is due to the fact that it goes where other shows wouldn't dare. Forget pretty pictures painted for mainstream audiences, forget charm, forget romance...OZ doesn't mess around. The first episode I ever saw struck me as so nasty it was surreal, I couldn't say I was ready for it, but as I watched more, I developed a taste for Oz, and got accustomed to the high levels of graphic violence. Not just violence, but injustice (crooked guards who'll be sold out for a nickel, inmates who'll kill on order and get away with it, well mannered, middle class inmates being turned into prison bitches due to their lack of street skills or prison experience) Watching Oz, you may become comfortable with what is uncomfortable viewing....thats if you can get in touch with your darker side.\", 'target': 'positive'}\n"
     ]
    }
   ],
   "source": [
    "class IMDBReviewsDataset(Dataset):\n",
    "    def __init__(self, path, transform=None):\n",
    "        self.dataset = pd.read_csv(path)\n",
    "        self.transform = transform\n",
    "    \n",
    "    def __len__(self):\n",
    "        return self.dataset.shape[0]\n",
    "\n",
    "    def __getitem__(self, item):\n",
    "        if torch.is_tensor(item):\n",
    "            item = item.tolist()  # Deal with list of items instead of tensor\n",
    "        \n",
    "        item = {\n",
    "            \"data\": self.dataset.iloc[item][\"review\"],\n",
    "            \"target\": self.dataset.iloc[item][\"sentiment\"]\n",
    "        }\n",
    "\n",
    "        if self.transform:\n",
    "            item = self.transform(item)\n",
    "        \n",
    "        return item\n",
    "\n",
    "dataset = IMDBReviewsDataset(\"./data/imdb_reviews.csv.gz\")\n",
    "print(f\"Dataset loaded with {len(dataset)} elements\")\n",
    "print(f\"Sample element:\\n{dataset[0]}\")"
   ]
  },
  {
   "cell_type": "markdown",
   "metadata": {
    "slideshow": {
     "slide_type": "slide"
    }
   },
   "source": [
    "## Transformaciones\n",
    "\n",
    "El ejemplo anterior nos muestra el uso básico, pero claramente no podemos pasarle eso a una red neuronal, no puede manejar texto. Es para eso que tenemos que hacer algún tipo de transformación sobre los atributos (en este caso el único atributo es el texto). "
   ]
  },
  {
   "cell_type": "markdown",
   "metadata": {
    "slideshow": {
     "slide_type": "subslide"
    }
   },
   "source": [
    "### Normalización\n",
    "\n",
    "En particular, como vemos en el caso anterior, el texto no está normalizado, parte de las transformaciones pueden incluir realizar algún tipo de normalización. Para eso hagamos uso de [`gensim`](https://radimrehurek.com/gensim/index.html), en particular utilizaremos el módulo [`preprocessing`](https://radimrehurek.com/gensim/parsing/preprocessing.html#module-gensim.parsing.preprocessing) que se encargará de hacer varias normalizaciones por defecto"
   ]
  },
  {
   "cell_type": "code",
   "execution_count": 3,
   "metadata": {
    "slideshow": {
     "slide_type": "subslide"
    }
   },
   "outputs": [
    {
     "name": "stdout",
     "output_type": "stream",
     "text": [
      "{'data': ['reviewers', 'mentioned', 'watching', 'episode', 'hooked', 'right', 'exactly', 'happened', 'thing', 'struck', 'brutality', 'unflinching', 'scenes', 'violence', 'set', 'right', 'word', 'trust', 'faint', 'hearted', 'timid', 'pulls', 'punches', 'regards', 'drugs', 'sex', 'violence', 'hardcore', 'classic', 'use', 'word', 'called', 'nickname', 'given', 'oswald', 'maximum', 'security', 'state', 'penitentary', 'focuses', 'mainly', 'emerald', 'city', 'experimental', 'section', 'prison', 'cells', 'glass', 'fronts', 'face', 'inwards', 'privacy', 'high', 'agenda', 'city', 'home', 'aryans', 'muslims', 'gangstas', 'latinos', 'christians', 'italians', 'irish', 'scuffles', 'death', 'stares', 'dodgy', 'dealings', 'shady', 'agreements', 'far', 'away', 'main', 'appeal', 'fact', 'goes', 'shows', 'wouldn', 'dare', 'forget', 'pretty', 'pictures', 'painted', 'mainstream', 'audiences', 'forget', 'charm', 'forget', 'romance', 'mess', 'episode', 'saw', 'struck', 'nasty', 'surreal', 'couldn', 'ready', 'watched', 'developed', 'taste', 'got', 'accustomed', 'high', 'levels', 'graphic', 'violence', 'violence', 'injustice', 'crooked', 'guards', 'sold', 'nickel', 'inmates', 'kill', 'order', 'away', 'mannered', 'middle', 'class', 'inmates', 'turned', 'prison', 'bitches', 'lack', 'street', 'skills', 'prison', 'experience', 'watching', 'comfortable', 'uncomfortable', 'viewing', 'thats', 'touch', 'darker'], 'target': 1}\n"
     ]
    }
   ],
   "source": [
    "class TextPreprocess:\n",
    "    def __init__(self, filters=None):\n",
    "        if filters:\n",
    "            self.filters = filters\n",
    "        else:\n",
    "            self.filters = [\n",
    "                lambda s: s.lower(),\n",
    "                preprocessing.strip_tags,\n",
    "                preprocessing.strip_punctuation,\n",
    "                preprocessing.strip_multiple_whitespaces,\n",
    "                preprocessing.strip_numeric,\n",
    "                preprocessing.remove_stopwords,\n",
    "                preprocessing.strip_short,\n",
    "            ]\n",
    "        \n",
    "    def _preprocess_string(self, string):\n",
    "        return preprocessing.preprocess_string(string, filters=self.filters)\n",
    "\n",
    "    def _encode_target(self, target):\n",
    "        return 1 if target == \"positive\" else 0\n",
    "\n",
    "    def __call__(self, item):\n",
    "        if isinstance(item[\"data\"], str):\n",
    "            data = self._preprocess_string(item[\"data\"])\n",
    "        else:\n",
    "            data = [self._preprocess_string(d) for d in item[\"data\"]]\n",
    "        \n",
    "        if isinstance(item[\"target\"], str):\n",
    "            target = self._encode_target(item[\"target\"])\n",
    "        else:\n",
    "            target = [self._encode_target(t) for t in item[\"target\"]]\n",
    "        \n",
    "        return {\n",
    "            \"data\": data,\n",
    "            \"target\": target\n",
    "        }\n",
    "\n",
    "preprocess = TextPreprocess()\n",
    "print(preprocess(dataset[0]))"
   ]
  },
  {
   "cell_type": "markdown",
   "metadata": {
    "slideshow": {
     "slide_type": "subslide"
    }
   },
   "source": [
    "### Conversión a vectores\n",
    "\n",
    "Podemos continuar convertiendo el texto en una representación por vectores. Si bien hay muchas posibilidades (siendo la bolsa de palabras una de las más utilizadas), en general para Deep Learning se prefieren representaciones utilizando vectores contínuos, obtenidos por algún método del estilo de Word2Vec, Glove o FastText. Para este caso utilizaremos las representaciones de Glove de dimensión 50 que se dejaron para descargar en el [notebook 0](./0_set_up.ipynb)."
   ]
  },
  {
   "cell_type": "code",
   "execution_count": 4,
   "metadata": {
    "slideshow": {
     "slide_type": "subslide"
    }
   },
   "outputs": [
    {
     "data": {
      "text/plain": [
       "{'data': array([[-0.18105   , -0.79229999, -0.097616  , ...,  1.42859995,\n",
       "         -0.032471  ,  0.47235999],\n",
       "        [ 0.69395   ,  0.69261003, -0.21608   , ...,  0.2247    ,\n",
       "         -0.23197   ,  0.0062523 ],\n",
       "        [-0.0049087 ,  0.12611   ,  0.14056   , ..., -0.58464003,\n",
       "         -0.31830999,  0.31564   ],\n",
       "        ...,\n",
       "        [ 0.25435999, -0.44304001, -0.12524   , ...,  0.73352998,\n",
       "          0.026198  ,  0.30408001],\n",
       "        [-0.058468  ,  0.019087  ,  0.089056  , ..., -0.28176001,\n",
       "          0.045137  , -0.18802001],\n",
       "        [ 0.14443   ,  0.39103001, -0.93454999, ..., -0.71325999,\n",
       "         -0.54575998,  0.13952   ]]),\n",
       " 'target': 1}"
      ]
     },
     "execution_count": 4,
     "metadata": {},
     "output_type": "execute_result"
    }
   ],
   "source": [
    "class VectorizeText:\n",
    "    def __init__(self, glove_vectors_path):\n",
    "        self.glove_model = KeyedVectors.load_word2vec_format(\"./data/glove.6B.50d.txt\",\n",
    "                                                             binary=False, no_header=True)\n",
    "        self.unkown_vector = np.random.randn(self.glove_model.vector_size)  # Random vector for unknown words\n",
    "    \n",
    "    def _get_vector(self, word):\n",
    "        if word in self.glove_model:\n",
    "            return self.glove_model[word]\n",
    "        else:\n",
    "            return self.unkown_vector\n",
    "    \n",
    "    def _get_vectors(self, sentence):\n",
    "        return np.vstack([self._get_vector(word) for word in sentence])\n",
    "    \n",
    "    def __call__(self, item):\n",
    "        review = []\n",
    "        if isinstance(item[\"data\"][0], str):\n",
    "            review = self._get_vectors(item[\"data\"])\n",
    "        else:\n",
    "            review = [self._get_vectors(d) for d in item[\"data\"]]\n",
    "\n",
    "        return {\n",
    "            \"data\": review,\n",
    "            \"target\": item[\"target\"]\n",
    "        }\n",
    "\n",
    "vectorizer = VectorizeText(\"./data/glove.6B.50d.txt.gz\")\n",
    "vectorizer(preprocess(dataset[0]))"
   ]
  },
  {
   "cell_type": "markdown",
   "metadata": {
    "slideshow": {
     "slide_type": "subslide"
    }
   },
   "source": [
    "### Combinación de vectores\n",
    "\n",
    "Si bien ahora estamos con una versión de los atributos que podría pasar por una red neuronal, hay un problema, las distintas reviews tienen largo distinto y como el algoritmo se entrena en lotes (*mini-batches*) estas requieren tener todas el mismo largo. Hay varias maneras de lidiar con esto, cada una con sus ventajas y desventajas. Dado que por ahora solo vimos perceptrón multicapa, que espera algo de tamaño fijo, una opción sencilla puede ser la de simplemente promediar los vectores de palabras."
   ]
  },
  {
   "cell_type": "code",
   "execution_count": 5,
   "metadata": {
    "slideshow": {
     "slide_type": "subslide"
    }
   },
   "outputs": [
    {
     "data": {
      "text/plain": [
       "{'data': array([ 0.09577639,  0.02841517, -0.10557132, -0.27231854,  0.26206218,\n",
       "         0.06613897, -0.06309304, -0.0415889 , -0.15025635,  0.20153827,\n",
       "        -0.20744573, -0.10961742, -0.15226319, -0.01454608,  0.27548899,\n",
       "         0.01196117,  0.03742069, -0.00949933, -0.12544634, -0.2413244 ,\n",
       "        -0.05297129,  0.30832897,  0.15259472,  0.18935842,  0.11253999,\n",
       "        -1.07986028, -0.36013918,  0.19516013,  0.42554837, -0.16026932,\n",
       "         2.04100643,  0.14682758, -0.05537557, -0.37286566, -0.0821818 ,\n",
       "         0.1196377 , -0.05145981, -0.15015274, -0.19053322, -0.23536209,\n",
       "        -0.13351049,  0.06572485,  0.04443282,  0.26679263,  0.12758326,\n",
       "         0.0022425 ,  0.00446468, -0.1353851 , -0.0229578 , -0.06999757]),\n",
       " 'target': 1}"
      ]
     },
     "execution_count": 5,
     "metadata": {},
     "output_type": "execute_result"
    }
   ],
   "source": [
    "class WordVectorsAverage:\n",
    "    def __call__(self, item):\n",
    "        if item[\"data\"][0].ndim == 2:\n",
    "            data = np.vstack([np.mean(d, axis=0) for d in item[\"data\"]])\n",
    "        else:\n",
    "            data = np.mean(item[\"data\"], axis=0)\n",
    "        \n",
    "        return {\n",
    "            \"data\": data,\n",
    "            \"target\": item[\"target\"]\n",
    "        }\n",
    "\n",
    "vector_average = WordVectorsAverage()\n",
    "vector_average(vectorizer(preprocess(dataset[0])))"
   ]
  },
  {
   "cell_type": "markdown",
   "metadata": {
    "slideshow": {
     "slide_type": "subslide"
    }
   },
   "source": [
    "### Conversión de vectores a tensores\n",
    "\n",
    "En el paso final, debemos convertir nuestros datos de arrays de `numpy` a tensores de PyTorch."
   ]
  },
  {
   "cell_type": "code",
   "execution_count": 6,
   "metadata": {
    "slideshow": {
     "slide_type": "subslide"
    }
   },
   "outputs": [
    {
     "data": {
      "text/plain": [
       "{'data': tensor([ 0.0958,  0.0284, -0.1056, -0.2723,  0.2621,  0.0661, -0.0631, -0.0416,\n",
       "         -0.1503,  0.2015, -0.2074, -0.1096, -0.1523, -0.0145,  0.2755,  0.0120,\n",
       "          0.0374, -0.0095, -0.1254, -0.2413, -0.0530,  0.3083,  0.1526,  0.1894,\n",
       "          0.1125, -1.0799, -0.3601,  0.1952,  0.4255, -0.1603,  2.0410,  0.1468,\n",
       "         -0.0554, -0.3729, -0.0822,  0.1196, -0.0515, -0.1502, -0.1905, -0.2354,\n",
       "         -0.1335,  0.0657,  0.0444,  0.2668,  0.1276,  0.0022,  0.0045, -0.1354,\n",
       "         -0.0230, -0.0700], dtype=torch.float64),\n",
       " 'target': tensor(1)}"
      ]
     },
     "execution_count": 6,
     "metadata": {},
     "output_type": "execute_result"
    }
   ],
   "source": [
    "class ToTensor:\n",
    "    def __call__(self, item):\n",
    "        \"\"\"\n",
    "        This espects a single array.\n",
    "        \"\"\"\n",
    "        return {\n",
    "            \"data\": torch.from_numpy(item[\"data\"]),\n",
    "            \"target\": torch.tensor(item[\"target\"])\n",
    "        }\n",
    "\n",
    "to_tensor = ToTensor()\n",
    "to_tensor(vector_average(vectorizer(preprocess(dataset[0]))))"
   ]
  },
  {
   "cell_type": "markdown",
   "metadata": {
    "slideshow": {
     "slide_type": "subslide"
    }
   },
   "source": [
    "### Componiendo las transformaciones\n",
    "\n",
    "Para evitar tener que llamar a todas las funciones de transformación que querramos aplicar, para ello hacemos uso del parámetro `transform` que definimos en nuestro `Dataset` y un poco de ayuda de `functools`."
   ]
  },
  {
   "cell_type": "code",
   "execution_count": 7,
   "metadata": {
    "slideshow": {
     "slide_type": "subslide"
    }
   },
   "outputs": [
    {
     "name": "stdout",
     "output_type": "stream",
     "text": [
      "Dataset loaded with 50000 elements\n",
      "Sample element:\n",
      "{'data': tensor([ 0.0958,  0.0284, -0.1056, -0.2723,  0.2621,  0.0661, -0.0631, -0.0416,\n",
      "        -0.1503,  0.2015, -0.2074, -0.1096, -0.1523, -0.0145,  0.2755,  0.0120,\n",
      "         0.0374, -0.0095, -0.1254, -0.2413, -0.0530,  0.3083,  0.1526,  0.1894,\n",
      "         0.1125, -1.0799, -0.3601,  0.1952,  0.4255, -0.1603,  2.0410,  0.1468,\n",
      "        -0.0554, -0.3729, -0.0822,  0.1196, -0.0515, -0.1502, -0.1905, -0.2354,\n",
      "        -0.1335,  0.0657,  0.0444,  0.2668,  0.1276,  0.0022,  0.0045, -0.1354,\n",
      "        -0.0230, -0.0700], dtype=torch.float64), 'target': tensor(1)}\n"
     ]
    }
   ],
   "source": [
    "def compose(*functions):\n",
    "    return functools.reduce(lambda f, g: lambda x: g(f(x)), functions, lambda x: x)\n",
    "\n",
    "dataset = IMDBReviewsDataset(\"./data/imdb_reviews.csv.gz\",\n",
    "                             transform=compose(preprocess, vectorizer, vector_average, to_tensor))\n",
    "print(f\"Dataset loaded with {len(dataset)} elements\")\n",
    "print(f\"Sample element:\\n{dataset[0]}\")"
   ]
  },
  {
   "cell_type": "markdown",
   "metadata": {
    "slideshow": {
     "slide_type": "subslide"
    }
   },
   "source": [
    "### Iterando el dataset\n",
    "\n",
    "Ya tenemos nuestro conjunto de datos con sus respectivas transformaciones. ¿Para qué nos sirve esto? Una opción es simplemente iterar en el conjunto de datos de a un elemento. Esto es sencillo, simplemente se hace a través de un `for`."
   ]
  },
  {
   "cell_type": "code",
   "execution_count": 8,
   "metadata": {
    "slideshow": {
     "slide_type": "subslide"
    }
   },
   "outputs": [
    {
     "name": "stdout",
     "output_type": "stream",
     "text": [
      "tensor([ 0.0958,  0.0284, -0.1056, -0.2723,  0.2621,  0.0661, -0.0631, -0.0416,\n",
      "        -0.1503,  0.2015, -0.2074, -0.1096, -0.1523, -0.0145,  0.2755,  0.0120,\n",
      "         0.0374, -0.0095, -0.1254, -0.2413, -0.0530,  0.3083,  0.1526,  0.1894,\n",
      "         0.1125, -1.0799, -0.3601,  0.1952,  0.4255, -0.1603,  2.0410,  0.1468,\n",
      "        -0.0554, -0.3729, -0.0822,  0.1196, -0.0515, -0.1502, -0.1905, -0.2354,\n",
      "        -0.1335,  0.0657,  0.0444,  0.2668,  0.1276,  0.0022,  0.0045, -0.1354,\n",
      "        -0.0230, -0.0700], dtype=torch.float64)\n",
      "tensor(1)\n",
      "==================================================\n",
      "tensor([ 0.0651,  0.1982, -0.3791, -0.1193,  0.3404,  0.1934, -0.2716, -0.1303,\n",
      "        -0.1434,  0.3831, -0.0742,  0.2368, -0.1542,  0.1296,  0.2765, -0.0633,\n",
      "         0.1217,  0.1036, -0.1228, -0.3544,  0.0960,  0.3598,  0.0418,  0.0399,\n",
      "         0.3906, -0.7744, -0.5847,  0.1390,  0.3948, -0.1475,  2.1128, -0.1157,\n",
      "         0.0859, -0.3700,  0.0146,  0.3372, -0.0167,  0.2811, -0.2000, -0.3213,\n",
      "         0.1288,  0.1174, -0.1521,  0.0546, -0.0459,  0.0700,  0.2174, -0.0943,\n",
      "        -0.1564,  0.1843], dtype=torch.float64)\n",
      "tensor(1)\n",
      "==================================================\n",
      "tensor([ 0.1156,  0.1620, -0.2226, -0.2110,  0.4136,  0.2142, -0.2768, -0.1253,\n",
      "        -0.2487,  0.3100, -0.1870,  0.1175, -0.2071,  0.2026,  0.3963, -0.0145,\n",
      "         0.1064,  0.1892, -0.3575, -0.2874, -0.0762,  0.4070,  0.1601,  0.1652,\n",
      "         0.3301, -1.0604, -0.4467,  0.1917,  0.4583, -0.2003,  1.9967,  0.2179,\n",
      "         0.0460, -0.2379,  0.0279,  0.1072, -0.1289,  0.1671, -0.2856, -0.4432,\n",
      "        -0.0877,  0.1785, -0.0697,  0.0857,  0.1390,  0.0088,  0.0788, -0.3161,\n",
      "        -0.1101,  0.2739])\n",
      "tensor(1)\n",
      "==================================================\n"
     ]
    }
   ],
   "source": [
    "for idx, sample in enumerate(dataset):\n",
    "    print(sample[\"data\"])\n",
    "    print(sample[\"target\"])\n",
    "    print(\"=\" * 50)\n",
    "    \n",
    "    if idx == 2:\n",
    "        break"
   ]
  },
  {
   "cell_type": "markdown",
   "metadata": {
    "slideshow": {
     "slide_type": "slide"
    }
   },
   "source": [
    "## La clase Dataloader\n",
    "\n",
    "El problema con iterar de a un elemento es que estamos limitados al querer entrenar un modelo. Por empezar, los modelos de Deep Learning suelen ser más eficientes si se entrenan utilizando algún tipo de entrenamiento por *mini-batches*. Además, hay otras cosas como mezclar los elementos (*shuffling*) o cargar datos en paralelo vía distintos *multiprocess workers*. La clase [`torch.utils.data.DataLoader`](https://pytorch.org/docs/stable/data.html#torch.utils.data.DataLoader) precisamente se encarga de hacer eso por nosotros:"
   ]
  },
  {
   "cell_type": "code",
   "execution_count": 9,
   "metadata": {
    "slideshow": {
     "slide_type": "subslide"
    }
   },
   "outputs": [
    {
     "name": "stdout",
     "output_type": "stream",
     "text": [
      "0 torch.Size([4, 50]) torch.Size([4])\n",
      "1 torch.Size([4, 50]) torch.Size([4])\n",
      "2 torch.Size([4, 50]) torch.Size([4])\n",
      "tensor([[ 8.4240e-02,  2.4439e-01, -1.7102e-01, -2.3076e-02,  8.9962e-02,\n",
      "          1.4342e-01, -1.6285e-01, -1.8584e-01, -1.4967e-01,  3.5144e-01,\n",
      "         -2.0516e-01,  6.0792e-02, -1.6507e-01,  1.6065e-01,  2.5354e-01,\n",
      "         -9.5613e-02,  1.2308e-01,  6.9195e-03, -3.6781e-01, -3.9112e-01,\n",
      "          2.2053e-01,  6.2114e-02,  1.2022e-01, -1.6964e-02,  2.0150e-01,\n",
      "         -7.3657e-01, -5.6199e-01,  1.3429e-01,  1.6235e-01, -1.4231e-01,\n",
      "          1.9862e+00,  6.4501e-02,  1.4963e-01, -2.3589e-01,  1.6971e-01,\n",
      "          6.5741e-02,  7.0174e-02,  1.5929e-01, -2.4950e-01, -2.6196e-01,\n",
      "         -1.3692e-01,  1.6855e-01, -1.1381e-01, -1.0460e-01,  2.7676e-03,\n",
      "         -5.4849e-02,  1.7385e-01, -1.8558e-01,  3.3055e-02,  2.2113e-01],\n",
      "        [ 1.3920e-01,  4.0550e-02, -1.7777e-01, -6.4388e-02,  1.2557e-01,\n",
      "          1.2271e-01, -1.6567e-01, -1.6975e-01, -9.9027e-02,  2.2501e-01,\n",
      "         -3.9010e-01,  7.7526e-02, -1.6240e-01,  2.1988e-01,  6.4963e-01,\n",
      "         -2.7423e-02,  3.0426e-02,  7.3881e-02, -2.3123e-01, -2.6939e-01,\n",
      "          1.7877e-01,  2.9654e-01,  2.3515e-01,  2.3213e-01,  3.4750e-01,\n",
      "         -9.0447e-01, -5.7086e-01,  1.8621e-01,  4.3704e-01, -2.4220e-01,\n",
      "          2.0078e+00,  1.5430e-01,  1.3417e-01, -4.1151e-01, -7.9841e-02,\n",
      "          3.2004e-01,  6.5389e-02,  4.7093e-02, -3.1136e-01, -3.0979e-01,\n",
      "         -1.1646e-01,  2.8624e-01,  1.4350e-02,  8.1642e-02,  5.0626e-02,\n",
      "          1.4979e-01,  1.1390e-01, -7.0696e-04, -1.5978e-02,  3.6417e-01],\n",
      "        [ 8.7203e-02,  2.2888e-01, -3.4864e-01, -1.6489e-01,  3.6612e-01,\n",
      "          2.4242e-01, -2.4423e-01,  1.0513e-02, -1.9617e-01,  3.3801e-01,\n",
      "         -2.0951e-01,  2.4243e-01, -3.2932e-01,  1.1676e-02,  3.4542e-01,\n",
      "         -1.0656e-01,  1.4711e-01, -1.1847e-02, -1.2794e-01, -3.3394e-01,\n",
      "         -2.2956e-03,  4.5185e-01,  5.6730e-03, -1.3613e-01,  4.3538e-01,\n",
      "         -9.5873e-01, -4.6230e-01,  1.0992e-01,  2.5084e-01, -7.7304e-02,\n",
      "          2.1502e+00,  1.6376e-01,  2.2832e-01, -4.3412e-01,  3.1418e-03,\n",
      "          1.3297e-01, -5.4639e-02,  1.8337e-01, -2.5654e-01, -4.2727e-01,\n",
      "         -1.3544e-01,  1.8635e-01, -2.1050e-01, -2.8838e-02, -6.8665e-02,\n",
      "          5.2279e-03, -5.2036e-02, -4.9044e-02, -9.1522e-02,  2.7006e-01],\n",
      "        [ 6.4424e-02,  2.7548e-01, -2.9503e-01, -1.0175e-01,  6.9881e-02,\n",
      "          3.6528e-01, -3.4093e-01, -2.8181e-01, -1.5199e-01,  2.7136e-01,\n",
      "         -3.6326e-02,  2.7621e-01, -1.8648e-01,  3.6905e-02,  1.7957e-01,\n",
      "         -3.9730e-02,  3.1884e-01,  2.0276e-01, -3.5854e-01, -2.9085e-02,\n",
      "          2.6383e-01,  1.9936e-01, -2.1096e-03,  4.5662e-02,  3.2569e-01,\n",
      "         -7.7764e-01, -5.2837e-01,  2.5572e-02, -4.2561e-02, -3.0837e-02,\n",
      "          1.7830e+00,  1.5000e-02,  1.0967e-01, -1.1006e-01, -4.4734e-02,\n",
      "          1.4435e-01,  9.8001e-02,  2.1031e-01, -1.7417e-01, -3.0630e-01,\n",
      "         -5.0134e-02,  1.7311e-01, -8.3781e-02, -1.6755e-01, -1.9979e-01,\n",
      "          7.8298e-02, -1.6780e-02, -2.0758e-01, -3.9277e-02,  1.4186e-01]])\n",
      "tensor([1, 0, 1, 1])\n"
     ]
    }
   ],
   "source": [
    "dataloader = DataLoader(\n",
    "    dataset,\n",
    "    batch_size=4,\n",
    "    shuffle=True,\n",
    "    num_workers=2\n",
    ")\n",
    "\n",
    "for i_batch, sample_batched in enumerate(dataloader):\n",
    "    print(i_batch, \n",
    "          sample_batched['data'].size(),\n",
    "          sample_batched['target'].size())\n",
    "\n",
    "    if i_batch == 2:\n",
    "        print(sample_batched[\"data\"])\n",
    "        print(sample_batched[\"target\"])\n",
    "        break"
   ]
  },
  {
   "cell_type": "markdown",
   "metadata": {
    "slideshow": {
     "slide_type": "slide"
    }
   },
   "source": [
    "## La clase IterableDataset\n",
    "\n",
    "El método preferido para trabajar con conjuntos de datos en PyTorch es `torch.utils.data.Dataset`. En general, hacer uso inteligente del método `__getitem__`, e.g. usándolo para cargar imágenes a medida que sean necesitadas y no al instanciar el dataset, es la mejor manera de trabajar con un conjunto de datos. En particular, de esta forma es mucho más fácil hacer *shuffling* de los datos y demás. No obstante, no siempre esto es posible, muchas veces el conjunto de datos es demasiado grande para levantarlo en memoria (aunque sólo levantemos referencias). Para esos casos, PyTorch ofrece la clase [`torch.utils.data.IterableDataset`](https://pytorch.org/docs/stable/data.html#torch.utils.data.IterableDataset), en este caso el único método que es requerido implementar es `__iter__`."
   ]
  },
  {
   "cell_type": "code",
   "execution_count": 5,
   "metadata": {},
   "outputs": [
    {
     "name": "stdout",
     "output_type": "stream",
     "text": [
      "<class '__main__.MeLiChallengeDataset'>\n",
      "Sample batch:\n",
      "{'data': ['Casita Muñecas Barbies Pintadas', 'Neceser Cromado Holográfico ', 'Funda Asiento A Medida D20 Chevrolet', 'Embrague Ford Focus One 1.8 8v Td (90cv) Desde 01-99'], 'target': ['DOLLHOUSES', 'TOILETRY_BAGS', 'CAR_SEAT_COVERS', 'AUTOMOTIVE_CLUTCH_KITS']}\n"
     ]
    }
   ],
   "source": [
    "class MeLiChallengeDataset(IterableDataset):\n",
    "    def __init__(self, path, transform=None):\n",
    "        self.dataset_path = path\n",
    "        self.transform = transform\n",
    "\n",
    "    def __iter__(self):\n",
    "        with gzip.open(self.dataset_path, \"rt\") as fh:\n",
    "            for l in fh:\n",
    "                data = json.loads(l)\n",
    "                item = {\n",
    "                    \"data\": data['title'],\n",
    "                    \"target\": data['category']\n",
    "                }\n",
    "                \n",
    "                if self.transform:\n",
    "                    yield self.transform(item)\n",
    "                else:\n",
    "                    yield item\n",
    "\n",
    "dataset = MeLiChallengeDataset(\"./practico/data/meli-challenge-2019/spanish.train.jsonl.gz\")\n",
    "dataloader = DataLoader(dataset, batch_size=4, shuffle=False, num_workers=0)\n",
    "dataiter = iter(dataloader)\n",
    "print(f\"Sample batch:\\n{dataiter.next()}\")"
   ]
  },
  {
   "cell_type": "code",
   "execution_count": 6,
   "metadata": {},
   "outputs": [
    {
     "name": "stdout",
     "output_type": "stream",
     "text": [
      "Propiedades del objeto dataset:\n",
      "- dataset_path\n",
      "- transform\n"
     ]
    }
   ],
   "source": [
    "print('Propiedades del objeto dataset:')\n",
    "keys = dataset.__dict__.keys()\n",
    "for key in keys:\n",
    "    print('-', key)"
   ]
  },
  {
   "cell_type": "code",
   "execution_count": null,
   "metadata": {},
   "outputs": [],
   "source": []
  }
 ],
 "metadata": {
  "celltoolbar": "Slideshow",
  "kernelspec": {
   "display_name": "Python 3 (ipykernel)",
   "language": "python",
   "name": "python3"
  },
  "language_info": {
   "codemirror_mode": {
    "name": "ipython",
    "version": 3
   },
   "file_extension": ".py",
   "mimetype": "text/x-python",
   "name": "python",
   "nbconvert_exporter": "python",
   "pygments_lexer": "ipython3",
   "version": "3.9.12"
  },
  "rise": {
   "scroll": true
  }
 },
 "nbformat": 4,
 "nbformat_minor": 4
}

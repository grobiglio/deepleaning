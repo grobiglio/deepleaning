{
 "cells": [
  {
   "cell_type": "code",
   "execution_count": 1,
   "id": "488c5f62",
   "metadata": {},
   "outputs": [],
   "source": [
    "import pandas as pd\n",
    "from gensim.parsing import preprocessing"
   ]
  },
  {
   "cell_type": "code",
   "execution_count": 2,
   "id": "7b7d5b4e",
   "metadata": {},
   "outputs": [],
   "source": [
    "archivo_con_texto = './data/validation_set.csv'\n",
    "dataframe_con_texto = pd.read_csv(archivo_con_texto)"
   ]
  },
  {
   "cell_type": "code",
   "execution_count": 3,
   "id": "f394ff74",
   "metadata": {},
   "outputs": [],
   "source": [
    "texto_en_bruto = dataframe_con_texto.sample(20).title.to_list()"
   ]
  },
  {
   "cell_type": "code",
   "execution_count": 17,
   "id": "3ded7e41",
   "metadata": {},
   "outputs": [],
   "source": [
    "archivo_stopwords_spanish = './data/spanish_stopwords.txt'"
   ]
  },
  {
   "cell_type": "code",
   "execution_count": 20,
   "id": "e47ecd11",
   "metadata": {},
   "outputs": [],
   "source": [
    "stop_words = []\n",
    "with open(archivo_stopwords_spanish) as file:\n",
    "    for line in file:\n",
    "        stop_words.append(line.strip())"
   ]
  },
  {
   "cell_type": "code",
   "execution_count": 21,
   "id": "7e59247e",
   "metadata": {},
   "outputs": [
    {
     "name": "stdout",
     "output_type": "stream",
     "text": [
      "['a', 'actualmente', 'adelante', 'además', 'afirmó', 'agregó', 'ahora', 'ahí', 'al', 'algo', 'alguna', 'algunas', 'alguno', 'algunos', 'algún', 'alrededor', 'ambos', 'ampleamos', 'ante', 'anterior', 'antes', 'apenas', 'aproximadamente', 'aquel', 'aquellas', 'aquellos', 'aqui', 'aquí', 'arriba', 'aseguró', 'así', 'atras', 'aunque', 'ayer', 'añadió', 'aún', 'bajo', 'bastante', 'bien', 'buen', 'buena', 'buenas', 'bueno', 'buenos', 'cada', 'casi', 'cerca', 'cierta', 'ciertas', 'cierto', 'ciertos', 'cinco', 'comentó', 'como', 'con', 'conocer', 'conseguimos', 'conseguir', 'considera', 'consideró', 'consigo', 'consigue', 'consiguen', 'consigues', 'contra', 'cosas', 'creo', 'cual', 'cuales', 'cualquier', 'cuando', 'cuanto', 'cuatro', 'cuenta', 'cómo', 'da', 'dado', 'dan', 'dar', 'de', 'debe', 'deben', 'debido', 'decir', 'dejó', 'del', 'demás', 'dentro', 'desde', 'después', 'dice', 'dicen', 'dicho', 'dieron', 'diferente', 'diferentes', 'dijeron', 'dijo', 'dio', 'donde', 'dos', 'durante', 'e', 'ejemplo', 'el', 'ella', 'ellas', 'ello', 'ellos', 'embargo', 'empleais', 'emplean', 'emplear', 'empleas', 'empleo', 'en', 'encima', 'encuentra', 'entonces', 'entre', 'era', 'erais', 'eramos', 'eran', 'eras', 'eres', 'es', 'esa', 'esas', 'ese', 'eso', 'esos', 'esta', 'estaba', 'estabais', 'estaban', 'estabas', 'estad', 'estada', 'estadas', 'estado', 'estados', 'estais', 'estamos', 'estan', 'estando', 'estar', 'estaremos', 'estará', 'estarán', 'estarás', 'estaré', 'estaréis', 'estaría', 'estaríais', 'estaríamos', 'estarían', 'estarías', 'estas', 'este', 'estemos', 'esto', 'estos', 'estoy', 'estuve', 'estuviera', 'estuvierais', 'estuvieran', 'estuvieras', 'estuvieron', 'estuviese', 'estuvieseis', 'estuviesen', 'estuvieses', 'estuvimos', 'estuviste', 'estuvisteis', 'estuviéramos', 'estuviésemos', 'estuvo', 'está', 'estábamos', 'estáis', 'están', 'estás', 'esté', 'estéis', 'estén', 'estés', 'ex', 'existe', 'existen', 'explicó', 'expresó', 'fin', 'fue', 'fuera', 'fuerais', 'fueran', 'fueras', 'fueron', 'fuese', 'fueseis', 'fuesen', 'fueses', 'fui', 'fuimos', 'fuiste', 'fuisteis', 'fuéramos', 'fuésemos', 'gran', 'grandes', 'gueno', 'ha', 'haber', 'habida', 'habidas', 'habido', 'habidos', 'habiendo', 'habremos', 'habrá', 'habrán', 'habrás', 'habré', 'habréis', 'habría', 'habríais', 'habríamos', 'habrían', 'habrías', 'habéis', 'había', 'habíais', 'habíamos', 'habían', 'habías', 'hace', 'haceis', 'hacemos', 'hacen', 'hacer', 'hacerlo', 'haces', 'hacia', 'haciendo', 'hago', 'han', 'has', 'hasta', 'hay', 'haya', 'hayamos', 'hayan', 'hayas', 'hayáis', 'he', 'hecho', 'hemos', 'hicieron', 'hizo', 'hoy', 'hube', 'hubiera', 'hubierais', 'hubieran', 'hubieras', 'hubieron', 'hubiese', 'hubieseis', 'hubiesen', 'hubieses', 'hubimos', 'hubiste', 'hubisteis', 'hubiéramos', 'hubiésemos', 'hubo', 'igual', 'incluso', 'indicó', 'informó', 'intenta', 'intentais', 'intentamos', 'intentan', 'intentar', 'intentas', 'intento', 'ir', 'junto', 'la', 'lado', 'largo', 'las', 'le', 'les', 'llegó', 'lleva', 'llevar', 'lo', 'los', 'luego', 'lugar', 'manera', 'manifestó', 'mayor', 'me', 'mediante', 'mejor', 'mencionó', 'menos', 'mi', 'mientras', 'mio', 'mis', 'misma', 'mismas', 'mismo', 'mismos', 'modo', 'momento', 'mucha', 'muchas', 'mucho', 'muchos', 'muy', 'más', 'mí', 'mía', 'mías', 'mío', 'míos', 'nada', 'nadie', 'ni', 'ninguna', 'ningunas', 'ninguno', 'ningunos', 'ningún', 'no', 'nos', 'nosotras', 'nosotros', 'nuestra', 'nuestras', 'nuestro', 'nuestros', 'nueva', 'nuevas', 'nuevo', 'nuevos', 'nunca', 'o', 'ocho', 'os', 'otra', 'otras', 'otro', 'otros', 'para', 'parece', 'parte', 'partir', 'pasada', 'pasado', 'pero', 'pesar', 'poca', 'pocas', 'poco', 'pocos', 'podeis', 'podemos', 'poder', 'podria', 'podriais', 'podriamos', 'podrian', 'podrias', 'podrá', 'podrán', 'podría', 'podrían', 'poner', 'por', 'por qué', 'porque', 'posible', 'primer', 'primera', 'primero', 'primeros', 'principalmente', 'propia', 'propias', 'propio', 'propios', 'próximo', 'próximos', 'pudo', 'pueda', 'puede', 'pueden', 'puedo', 'pues', 'que', 'quedó', 'queremos', 'quien', 'quienes', 'quiere', 'quién', 'qué', 'realizado', 'realizar', 'realizó', 'respecto', 'sabe', 'sabeis', 'sabemos', 'saben', 'saber', 'sabes', 'se', 'sea', 'seamos', 'sean', 'seas', 'segunda', 'segundo', 'según', 'seis', 'ser', 'seremos', 'será', 'serán', 'serás', 'seré', 'seréis', 'sería', 'seríais', 'seríamos', 'serían', 'serías', 'seáis', 'señaló', 'si', 'sido', 'siempre', 'siendo', 'siete', 'sigue', 'siguiente', 'sin', 'sino', 'sobre', 'sois', 'sola', 'solamente', 'solas', 'solo', 'solos', 'somos', 'son', 'soy', 'su', 'sus', 'suya', 'suyas', 'suyo', 'suyos', 'sí', 'sólo', 'tal', 'también', 'tampoco', 'tan', 'tanto', 'te', 'tendremos', 'tendrá', 'tendrán', 'tendrás', 'tendré', 'tendréis', 'tendría', 'tendríais', 'tendríamos', 'tendrían', 'tendrías', 'tened', 'teneis', 'tenemos', 'tener', 'tenga', 'tengamos', 'tengan', 'tengas', 'tengo', 'tengáis', 'tenida', 'tenidas', 'tenido', 'tenidos', 'teniendo', 'tenéis', 'tenía', 'teníais', 'teníamos', 'tenían', 'tenías', 'tercera', 'ti', 'tiempo', 'tiene', 'tienen', 'tienes', 'toda', 'todas', 'todavía', 'todo', 'todos', 'total', 'trabaja', 'trabajais', 'trabajamos', 'trabajan', 'trabajar', 'trabajas', 'trabajo', 'tras', 'trata', 'través', 'tres', 'tu', 'tus', 'tuve', 'tuviera', 'tuvierais', 'tuvieran', 'tuvieras', 'tuvieron', 'tuviese', 'tuvieseis', 'tuviesen', 'tuvieses', 'tuvimos', 'tuviste', 'tuvisteis', 'tuviéramos', 'tuviésemos', 'tuvo', 'tuya', 'tuyas', 'tuyo', 'tuyos', 'tú', 'ultimo', 'un', 'una', 'unas', 'uno', 'unos', 'usa', 'usais', 'usamos', 'usan', 'usar', 'usas', 'uso', 'usted', 'va', 'vais', 'valor', 'vamos', 'van', 'varias', 'varios', 'vaya', 'veces', 'ver', 'verdad', 'verdadera', 'verdadero', 'vez', 'vosotras', 'vosotros', 'voy', 'vuestra', 'vuestras', 'vuestro', 'vuestros', 'y', 'ya', 'yo', 'él', 'éramos', 'ésta', 'éstas', 'éste', 'éstos', 'última', 'últimas', 'último', 'últimos']\n"
     ]
    }
   ],
   "source": [
    "print(stop_words)"
   ]
  },
  {
   "cell_type": "code",
   "execution_count": 4,
   "id": "555eb660",
   "metadata": {},
   "outputs": [
    {
     "name": "stdout",
     "output_type": "stream",
     "text": [
      "Electroestimulador Ondas Rusas Cuadradas Electrodos Digital\n",
      "Sillas Vestidas Tapizada Chenille Patas Blancas\n",
      "Kit Completo De Manicura Pedi Mate Callos Torno 12 Elementos\n",
      "Reef Ojotas Phantoms Rfolo Olive/orange (3054)\n",
      "Bandeja Giradisco Numark Pt01 Usb Vinilos\n",
      "Tender Brabantia Holanda 20mts Alas Tendedero Ideas Obelisco\n",
      "Electroestimulador/ Tonificante/ Musculacion Tekmedical\n",
      "Petale - Tevecompras - Cepillo Ceramica Alisador De Pelo\n",
      "Matchbox Car Wash, Lavadero De Autos. Original. Caja Cerrada\n",
      "Tokyo Yellow V1 Cámara Descartable 35mm\n",
      "Depiladora Bellissima De Luz Pulsada Zero Pro\n",
      "Kit Sensor Estacionamiento Trasero Peugeot 408\n",
      "Campera Bomber Capucha Hombre Eco Cuero #60012 Outside Tokyo\n",
      "Minipimer Licuadora Westinghouse Motor Potenciado 2 Años Gti\n",
      "Multigimnasio Plegable Ultrafit Con Accesorio De Piernas Gym\n",
      "Taladro Percutor 13mm Salkor Pro Carcaza Metalica 1.100 W\n",
      "Bujia Vento 2.5 Platino Bosch Upgrade Vw Fox Voyage\n",
      "Clutch - Cartera Forever 21  -  Ultimos Modelos C10\n",
      "Caja Fuerte Electrónica Digital Durable Negro Teclado Cerrad\n",
      "Touch Pen Chico Smartphone Tablet Pc Digital Universal\n"
     ]
    }
   ],
   "source": [
    "for cadena in texto_en_bruto:\n",
    "    print(cadena)"
   ]
  },
  {
   "cell_type": "code",
   "execution_count": 23,
   "id": "89ac5d87",
   "metadata": {},
   "outputs": [
    {
     "name": "stdout",
     "output_type": "stream",
     "text": [
      "['electroestimulador', 'ondas', 'rusas', 'cuadradas', 'electrodos', 'digital']\n",
      "['sillas', 'vestidas', 'tapizada', 'chenille', 'patas', 'blancas']\n",
      "['completo', 'manicura', 'pedi', 'mate', 'callos', 'torno', 'elementos']\n",
      "['reef', 'ojotas', 'phantoms', 'rfolo', 'olive', 'orange']\n",
      "['bandeja', 'giradisco', 'numark', 'vinilos']\n",
      "['tender', 'brabantia', 'holanda', 'alas', 'tendedero', 'ideas', 'obelisco']\n",
      "['electroestimulador', 'tonificante', 'musculacion', 'tekmedical']\n",
      "['petale', 'tevecompras', 'cepillo', 'ceramica', 'alisador', 'pelo']\n",
      "['matchbox', 'wash', 'lavadero', 'autos', 'original', 'caja', 'cerrada']\n",
      "['tokyo', 'yellow', 'cámara', 'descartable']\n",
      "['depiladora', 'bellissima', 'pulsada', 'zero']\n",
      "['sensor', 'estacionamiento', 'trasero', 'peugeot']\n",
      "['campera', 'bomber', 'capucha', 'hombre', 'cuero', 'outside', 'tokyo']\n",
      "['minipimer', 'licuadora', 'westinghouse', 'motor', 'potenciado', 'años']\n",
      "['multigimnasio', 'plegable', 'ultrafit', 'accesorio', 'piernas']\n",
      "['taladro', 'percutor', 'salkor', 'carcaza', 'metalica']\n",
      "['bujia', 'vento', 'platino', 'bosch', 'upgrade', 'voyage']\n",
      "['clutch', 'cartera', 'forever', 'ultimos', 'modelos']\n",
      "['caja', 'fuerte', 'electrónica', 'digital', 'durable', 'negro', 'teclado', 'cerrad']\n",
      "['touch', 'chico', 'smartphone', 'tablet', 'digital', 'universal']\n"
     ]
    }
   ],
   "source": [
    "# https://radimrehurek.com/gensim/parsing/preprocessing.html#gensim.parsing.preprocessing.preprocess_string\n",
    "for cadena in texto_en_bruto:\n",
    "    texto_procesado_1 = cadena.lower()\n",
    "    texto_procesado_2 = preprocessing.split_alphanum(texto_procesado_1)\n",
    "    texto_procesado_3 = preprocessing.strip_punctuation(texto_procesado_2)\n",
    "    texto_procesado_4 = preprocessing.strip_numeric(texto_procesado_3)\n",
    "    texto_procesado_5 = preprocessing.strip_multiple_whitespaces(texto_procesado_4)\n",
    "    texto_procesado_6 = preprocessing.strip_short(texto_procesado_5, minsize=4)\n",
    "    texto_procesado_7 = preprocessing.remove_stopwords(texto_procesado_6, stopwords=stop_words)\n",
    "    texto_procesado = texto_procesado_7\n",
    "    print(texto_procesado.split())"
   ]
  }
 ],
 "metadata": {
  "kernelspec": {
   "display_name": "Python 3 (ipykernel)",
   "language": "python",
   "name": "python3"
  },
  "language_info": {
   "codemirror_mode": {
    "name": "ipython",
    "version": 3
   },
   "file_extension": ".py",
   "mimetype": "text/x-python",
   "name": "python",
   "nbconvert_exporter": "python",
   "pygments_lexer": "ipython3",
   "version": "3.9.12"
  }
 },
 "nbformat": 4,
 "nbformat_minor": 5
}
